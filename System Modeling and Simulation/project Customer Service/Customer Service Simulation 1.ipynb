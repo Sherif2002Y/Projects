{
 "cells": [
  {
   "cell_type": "code",
   "execution_count": 1,
   "id": "83fb4b49",
   "metadata": {},
   "outputs": [],
   "source": [
    "import random\n",
    "import numpy as np\n",
    "import matplotlib.pyplot as plt\n",
    "from prettytable import PrettyTable"
   ]
  },
  {
   "cell_type": "code",
   "execution_count": 68,
   "id": "f6ce2101",
   "metadata": {},
   "outputs": [
    {
     "name": "stdout",
     "output_type": "stream",
     "text": [
      "Type of customers list:\n",
      "[0, 0, 1, 0, 0, 1, 1, 1, 0, 0]\n",
      "total ordinary = 6\n",
      "[0, 0, 0, 0, 0, 0]\n",
      "total distinguesh = 4\n",
      "[1, 1, 1, 1]\n",
      "4\n"
     ]
    }
   ],
   "source": [
    "# Lists for Ordinary customer\n",
    "Arrival_T_1 = []\n",
    "Start_Service_T_1 = []\n",
    "Waiting_T_1 = []\n",
    "Completion_T_1 = []\n",
    "Total_T_in_System_1 = []\n",
    "Service_T_1 = []\n",
    "Inter_Arrival_T_1 = []\n",
    "idle1 = []\n",
    "# Lists for Distinguished customer\n",
    "Arrival_T_2 = []\n",
    "Start_Service_T_2 = []\n",
    "Waiting_T_2 = []\n",
    "Completion_T_2 = []\n",
    "Total_T_in_System_2 = []\n",
    "Service_T_2 = []\n",
    "Inter_Arrival_T_2 = []\n",
    "idle2 = []\n",
    "\n",
    "# lists for store type of customers\n",
    "Type_of_customer = []\n",
    "o_customer = []\n",
    "d_customer = []\n",
    "\n",
    "def type_customer():\n",
    "   return(random.randint(0, 1))\n",
    "\n",
    "for i in range (10):\n",
    "    a=type_customer()\n",
    "    Type_of_customer.append(a)\n",
    "print(\"Type of customers list:\")\n",
    "print(Type_of_customer)\n",
    "for i in range (10):\n",
    "    a = Type_of_customer[i] \n",
    "    if a == 0:\n",
    "        o_customer.append(a)\n",
    "    else:\n",
    "       d_customer.append(a)\n",
    "print(f\"total ordinary = {len(o_customer)}\")\n",
    "print(o_customer)\n",
    "print(f\"total distinguesh = {len(d_customer)}\")\n",
    "print(d_customer)\n",
    "count = min(len(o_customer), len(d_customer))\n",
    "print(count)"
   ]
  },
  {
   "cell_type": "code",
   "execution_count": 69,
   "id": "06bcf736",
   "metadata": {},
   "outputs": [],
   "source": [
    "def random_0to1():\n",
    "    return random.uniform(0, 1)"
   ]
  },
  {
   "cell_type": "code",
   "execution_count": 70,
   "id": "ba42f725",
   "metadata": {},
   "outputs": [
    {
     "name": "stdout",
     "output_type": "stream",
     "text": [
      "2\n",
      "2\n",
      "1\n",
      "0\n",
      "0\n",
      "2\n"
     ]
    }
   ],
   "source": [
    "# inter_arrival_time for Ordinary Customer\n",
    "for i in range(len(o_customer)):\n",
    "    \n",
    "    a = random_0to1()\n",
    "    if a>=0 and a<0.09:\n",
    "        I_A_T=0\n",
    "    elif a>=0.09 and a<0.26:\n",
    "        I_A_T=1\n",
    "    elif a>=0.26 and a<0.53:\n",
    "        I_A_T=2\n",
    "    elif a>=0.53 and a<0.73:\n",
    "        I_A_T=3\n",
    "    elif a>=0.73 and a<0.88:\n",
    "        I_A_T=4\n",
    "    else:\n",
    "        I_A_T=5\n",
    "        \n",
    "    Inter_Arrival_T_1.append(I_A_T)\n",
    "    print(Inter_Arrival_T_1[i])"
   ]
  },
  {
   "cell_type": "code",
   "execution_count": 71,
   "id": "5557fbc6",
   "metadata": {},
   "outputs": [
    {
     "name": "stdout",
     "output_type": "stream",
     "text": [
      "4\n",
      "2\n",
      "2\n",
      "2\n"
     ]
    }
   ],
   "source": [
    "# inter_arrival_time for Distinguished Customer\n",
    "for i in range(len(d_customer)):\n",
    "    \n",
    "    a = random_0to1()\n",
    "    if a>=0 and a<0.1:\n",
    "        I_A_T=1\n",
    "    elif a>=0.1 and a<0.3:\n",
    "        I_A_T=2\n",
    "    elif a>=0.3 and a<0.6:\n",
    "        I_A_T=3\n",
    "    else:\n",
    "        I_A_T=4\n",
    "        \n",
    "    Inter_Arrival_T_2.append(I_A_T)\n",
    "    print(Inter_Arrival_T_2[i])"
   ]
  },
  {
   "cell_type": "code",
   "execution_count": 72,
   "id": "02dd01cb",
   "metadata": {},
   "outputs": [
    {
     "name": "stdout",
     "output_type": "stream",
     "text": [
      "2\n",
      "2\n",
      "2\n",
      "3\n",
      "4\n",
      "3\n"
     ]
    }
   ],
   "source": [
    "# service_time for Ordinary Customer\n",
    "for i in range(len(o_customer)):\n",
    "    \n",
    "    a = random_0to1()\n",
    "    if a>=0 and a<0.20:\n",
    "        S_T=1\n",
    "    elif a>=0.20 and a<0.60:\n",
    "        S_T=2\n",
    "    elif a>=0.60 and a<0.88:\n",
    "        S_T=3\n",
    "    else:\n",
    "        S_T=4\n",
    "    \n",
    "    Service_T_1.append(S_T)\n",
    "    print(Service_T_1[i])"
   ]
  },
  {
   "cell_type": "code",
   "execution_count": 73,
   "id": "5ab44511",
   "metadata": {},
   "outputs": [
    {
     "name": "stdout",
     "output_type": "stream",
     "text": [
      "2\n",
      "4\n",
      "1\n",
      "4\n"
     ]
    }
   ],
   "source": [
    "# service_time for Distinguished Customer\n",
    "for i in range(len(d_customer)):\n",
    "    \n",
    "    a = random_0to1()\n",
    "    if a>=0 and a<0.10:\n",
    "        S_T = 1\n",
    "    elif a>=0.10 and a<0.40:\n",
    "        S_T = 2\n",
    "    elif a>=0.40 and a<0.78:\n",
    "        S_T = 3\n",
    "    else:\n",
    "        S_T = 4\n",
    "    \n",
    "    Service_T_2.append(S_T)\n",
    "    print(Service_T_2[i])"
   ]
  },
  {
   "cell_type": "code",
   "execution_count": 74,
   "id": "315b6d70",
   "metadata": {},
   "outputs": [],
   "source": [
    "for i in range(len(o_customer)):\n",
    "    # first customer\n",
    "    if i == 0:\n",
    "            Arrival_T_1.append(Inter_Arrival_T_1[i])\n",
    "            Start_Service_T_1.append(Inter_Arrival_T_1[i])\n",
    "            Waiting_T_1.append(0)\n",
    "            Completion_T_1.append(Start_Service_T_1[i] + Service_T_1[i])\n",
    "            Total_T_in_System_1.append(Completion_T_1[i] - Arrival_T_1[i])\n",
    "            idle1.append(Inter_Arrival_T_1[i])\n",
    "    else:\n",
    "            Arrival_T_1.append(Arrival_T_1[i - 1] + Inter_Arrival_T_1[i])\n",
    "            Start_Service_T_1.append(max(Arrival_T_1[i], Completion_T_1[i - 1]))\n",
    "            Waiting_T_1.append(Start_Service_T_1[i] - Arrival_T_1[i])\n",
    "            Completion_T_1.append(Start_Service_T_1[i] + Service_T_1[i])\n",
    "            Total_T_in_System_1.append(Completion_T_1[i] - Arrival_T_1[i])\n",
    "            idle1.append(Start_Service_T_1[i] - Completion_T_1[i - 1])\n",
    "            \n",
    "for i in range(len(d_customer)):\n",
    "    # first customer\n",
    "    if i == 0:\n",
    "            Arrival_T_2.append(Inter_Arrival_T_2[i])\n",
    "            Start_Service_T_2.append(Inter_Arrival_T_2[i])\n",
    "            Waiting_T_2.append(0)\n",
    "            Completion_T_2.append(Start_Service_T_2[i] + Service_T_2[i])\n",
    "            Total_T_in_System_2.append(Completion_T_2[i] - Arrival_T_2[i])\n",
    "            idle2.append(Inter_Arrival_T_2[i])# system no turn on\n",
    "       \n",
    "    else:\n",
    "            Arrival_T_2.append(Arrival_T_2[i - 1] + Inter_Arrival_T_2[i])\n",
    "            Start_Service_T_2.append(max(Arrival_T_2[i], Completion_T_2[i - 1]))\n",
    "            Waiting_T_2.append(Start_Service_T_2[i] - Arrival_T_2[i])\n",
    "            Completion_T_2.append(Start_Service_T_2[i] + Service_T_2[i])\n",
    "            Total_T_in_System_2.append(Completion_T_2[i] - Arrival_T_2[i])\n",
    "            idle2.append(Start_Service_T_2[i] - Completion_T_2[i - 1])"
   ]
  },
  {
   "cell_type": "code",
   "execution_count": 75,
   "id": "3529ae91",
   "metadata": {},
   "outputs": [
    {
     "data": {
      "text/html": [
       "<table>\n",
       "    <thead>\n",
       "        <tr>\n",
       "            <th># Of Customer</th>\n",
       "            <th>inter_arrival_time_1</th>\n",
       "            <th>arrival_time</th>\n",
       "            <th>waiting_time</th>\n",
       "            <th>start_Service_time</th>\n",
       "            <th>service_time_1</th>\n",
       "            <th>compl_time</th>\n",
       "            <th>total_t_in_system</th>\n",
       "            <th>idle_time</th>\n",
       "        </tr>\n",
       "    </thead>\n",
       "    <tbody>\n",
       "        <tr>\n",
       "            <td>1</td>\n",
       "            <td>2</td>\n",
       "            <td>2</td>\n",
       "            <td>0</td>\n",
       "            <td>2</td>\n",
       "            <td>2</td>\n",
       "            <td>4</td>\n",
       "            <td>2</td>\n",
       "            <td>2</td>\n",
       "        </tr>\n",
       "        <tr>\n",
       "            <td>2</td>\n",
       "            <td>2</td>\n",
       "            <td>4</td>\n",
       "            <td>0</td>\n",
       "            <td>4</td>\n",
       "            <td>2</td>\n",
       "            <td>6</td>\n",
       "            <td>2</td>\n",
       "            <td>0</td>\n",
       "        </tr>\n",
       "        <tr>\n",
       "            <td>3</td>\n",
       "            <td>1</td>\n",
       "            <td>5</td>\n",
       "            <td>1</td>\n",
       "            <td>6</td>\n",
       "            <td>2</td>\n",
       "            <td>8</td>\n",
       "            <td>3</td>\n",
       "            <td>0</td>\n",
       "        </tr>\n",
       "        <tr>\n",
       "            <td>4</td>\n",
       "            <td>0</td>\n",
       "            <td>5</td>\n",
       "            <td>3</td>\n",
       "            <td>8</td>\n",
       "            <td>3</td>\n",
       "            <td>11</td>\n",
       "            <td>6</td>\n",
       "            <td>0</td>\n",
       "        </tr>\n",
       "        <tr>\n",
       "            <td>5</td>\n",
       "            <td>0</td>\n",
       "            <td>5</td>\n",
       "            <td>6</td>\n",
       "            <td>11</td>\n",
       "            <td>4</td>\n",
       "            <td>15</td>\n",
       "            <td>10</td>\n",
       "            <td>0</td>\n",
       "        </tr>\n",
       "        <tr>\n",
       "            <td>6</td>\n",
       "            <td>2</td>\n",
       "            <td>7</td>\n",
       "            <td>8</td>\n",
       "            <td>15</td>\n",
       "            <td>3</td>\n",
       "            <td>18</td>\n",
       "            <td>11</td>\n",
       "            <td>0</td>\n",
       "        </tr>\n",
       "    </tbody>\n",
       "</table>"
      ],
      "text/plain": [
       "+---------------+----------------------+--------------+--------------+--------------------+----------------+------------+-------------------+-----------+\n",
       "| # Of Customer | inter_arrival_time_1 | arrival_time | waiting_time | start_Service_time | service_time_1 | compl_time | total_t_in_system | idle_time |\n",
       "+---------------+----------------------+--------------+--------------+--------------------+----------------+------------+-------------------+-----------+\n",
       "|       1       |          2           |      2       |      0       |         2          |       2        |     4      |         2         |     2     |\n",
       "|       2       |          2           |      4       |      0       |         4          |       2        |     6      |         2         |     0     |\n",
       "|       3       |          1           |      5       |      1       |         6          |       2        |     8      |         3         |     0     |\n",
       "|       4       |          0           |      5       |      3       |         8          |       3        |     11     |         6         |     0     |\n",
       "|       5       |          0           |      5       |      6       |         11         |       4        |     15     |         10        |     0     |\n",
       "|       6       |          2           |      7       |      8       |         15         |       3        |     18     |         11        |     0     |\n",
       "+---------------+----------------------+--------------+--------------+--------------------+----------------+------------+-------------------+-----------+"
      ]
     },
     "execution_count": 75,
     "metadata": {},
     "output_type": "execute_result"
    }
   ],
   "source": [
    "ordi = PrettyTable(['# Of Customer', 'inter_arrival_time_1', 'arrival_time', 'waiting_time', 'start_Service_time', 'service_time_1',\n",
    "                 'compl_time', 'total_t_in_system', 'idle_time'])\n",
    "\n",
    "for i in range(len(o_customer)):\n",
    "    ordi.add_row([i+1, round(Inter_Arrival_T_1[i],3), round(Arrival_T_1[i],3), round(Waiting_T_1[i],3), round(Start_Service_T_1[i],3), round(Service_T_1[i],3),\n",
    "               round(Completion_T_1[i],3),round(Total_T_in_System_1[i],3), round(idle1[i],3)])\n",
    "\n",
    "ordi"
   ]
  },
  {
   "cell_type": "code",
   "execution_count": 76,
   "id": "cb77ed9d",
   "metadata": {},
   "outputs": [
    {
     "data": {
      "text/html": [
       "<table>\n",
       "    <thead>\n",
       "        <tr>\n",
       "            <th># Of Customer</th>\n",
       "            <th>inter_arrival_time_2</th>\n",
       "            <th>arrival_time</th>\n",
       "            <th>waiting_time</th>\n",
       "            <th>start_Service_time</th>\n",
       "            <th>service_time_1</th>\n",
       "            <th>compl_time</th>\n",
       "            <th>total_t_in_system</th>\n",
       "            <th>idle_time</th>\n",
       "        </tr>\n",
       "    </thead>\n",
       "    <tbody>\n",
       "        <tr>\n",
       "            <td>1</td>\n",
       "            <td>4</td>\n",
       "            <td>4</td>\n",
       "            <td>0</td>\n",
       "            <td>4</td>\n",
       "            <td>2</td>\n",
       "            <td>6</td>\n",
       "            <td>2</td>\n",
       "            <td>4</td>\n",
       "        </tr>\n",
       "        <tr>\n",
       "            <td>2</td>\n",
       "            <td>2</td>\n",
       "            <td>6</td>\n",
       "            <td>0</td>\n",
       "            <td>6</td>\n",
       "            <td>4</td>\n",
       "            <td>10</td>\n",
       "            <td>4</td>\n",
       "            <td>0</td>\n",
       "        </tr>\n",
       "        <tr>\n",
       "            <td>3</td>\n",
       "            <td>2</td>\n",
       "            <td>8</td>\n",
       "            <td>2</td>\n",
       "            <td>10</td>\n",
       "            <td>1</td>\n",
       "            <td>11</td>\n",
       "            <td>3</td>\n",
       "            <td>0</td>\n",
       "        </tr>\n",
       "        <tr>\n",
       "            <td>4</td>\n",
       "            <td>2</td>\n",
       "            <td>10</td>\n",
       "            <td>1</td>\n",
       "            <td>11</td>\n",
       "            <td>4</td>\n",
       "            <td>15</td>\n",
       "            <td>5</td>\n",
       "            <td>0</td>\n",
       "        </tr>\n",
       "    </tbody>\n",
       "</table>"
      ],
      "text/plain": [
       "+---------------+----------------------+--------------+--------------+--------------------+----------------+------------+-------------------+-----------+\n",
       "| # Of Customer | inter_arrival_time_2 | arrival_time | waiting_time | start_Service_time | service_time_1 | compl_time | total_t_in_system | idle_time |\n",
       "+---------------+----------------------+--------------+--------------+--------------------+----------------+------------+-------------------+-----------+\n",
       "|       1       |          4           |      4       |      0       |         4          |       2        |     6      |         2         |     4     |\n",
       "|       2       |          2           |      6       |      0       |         6          |       4        |     10     |         4         |     0     |\n",
       "|       3       |          2           |      8       |      2       |         10         |       1        |     11     |         3         |     0     |\n",
       "|       4       |          2           |      10      |      1       |         11         |       4        |     15     |         5         |     0     |\n",
       "+---------------+----------------------+--------------+--------------+--------------------+----------------+------------+-------------------+-----------+"
      ]
     },
     "execution_count": 76,
     "metadata": {},
     "output_type": "execute_result"
    }
   ],
   "source": [
    "dis = PrettyTable(['# Of Customer', 'inter_arrival_time_2', 'arrival_time', 'waiting_time', 'start_Service_time', 'service_time_1',\n",
    "                 'compl_time', 'total_t_in_system', 'idle_time'])\n",
    "\n",
    "for i in range(len(d_customer)):\n",
    "    dis.add_row([i+1, round(Inter_Arrival_T_2[i],3), round(Arrival_T_2[i],3), round(Waiting_T_2[i],3), round(Start_Service_T_2[i],3), round(Service_T_2[i],3),\n",
    "               round(Completion_T_2[i],3),round(Total_T_in_System_2[i],3), round(idle2[i],3)])\n",
    "\n",
    "dis"
   ]
  },
  {
   "cell_type": "code",
   "execution_count": 77,
   "id": "8cf7faa2",
   "metadata": {},
   "outputs": [
    {
     "name": "stdout",
     "output_type": "stream",
     "text": [
      "The average service time of the teller = 2.7 min\n",
      "The average waiting time in the ordinary customers queue = 3.0 min\n",
      "The average waiting time in the distinguished customers queue = 0.75 min\n",
      "The maximum ordinary customers queue length = 6\n",
      "The maximum distinguished customers queue length = 4\n",
      "The probability that an ordinary customer wait in the queue = 0.6666666666666666\n",
      "The probability that an distinguished customer wait in the queue = 0.5\n",
      "The portion of idle time of the teller = 0.06\n"
     ]
    }
   ],
   "source": [
    "print(f\"The average service time of the teller = {(sum(Service_T_1) + sum(Service_T_2)) / len(Type_of_customer)} min\")\n",
    "print(f\"The average waiting time in the ordinary customers queue = {sum(Waiting_T_1) / len(o_customer)} min\")\n",
    "print(f\"The average waiting time in the distinguished customers queue = {sum(Waiting_T_2) / len(d_customer)} min\")\n",
    "print(f\"The maximum ordinary customers queue length = {len(o_customer)}\")\n",
    "print(f\"The maximum distinguished customers queue length = {len(d_customer)}\")\n",
    "count1 = 0\n",
    "count2 = 0\n",
    "for i in range(len(Waiting_T_1)):\n",
    "    if Waiting_T_1[i] != 0:\n",
    "        count1 += 1\n",
    "for i in range(len(Waiting_T_2)):\n",
    "    if Waiting_T_2[i] != 0:\n",
    "        count2 += 1\n",
    "\n",
    "print(f\"The probability that an ordinary customer wait in the queue = {count1 / len(o_customer)}\")\n",
    "print(f\"The probability that an distinguished customer wait in the queue = {count2 / len(d_customer)}\")\n",
    "print(f\"The portion of idle time of the teller = {(sum(idle1) + sum(idle2))/ 100}\")"
   ]
  },
  {
   "cell_type": "code",
   "execution_count": 82,
   "id": "df00dc6a",
   "metadata": {},
   "outputs": [
    {
     "data": {
      "image/png": "[encoded data removed]",
      "text/plain": [
       "<Figure size 432x288 with 1 Axes>"
      ]
     },
     "metadata": {},
     "output_type": "display_data"
    }
   ],
   "source": [
    "labels = ['w1', 'w2']\n",
    "colors = ['yellow', 'blue']\n",
    "plt.pie([sum(Waiting_T_1),sum(Waiting_T_2)], labels = labels, colors = colors, autopct='%.2f%%')\n",
    "plt.title('differnce betwwen waiting time for two types of customers')\n",
    "plt.show()"
   ]
  },
  {
   "cell_type": "code",
   "execution_count": 84,
   "id": "c65c6160",
   "metadata": {},
   "outputs": [
    {
     "data": {
      "image/png": "[encoded data removed]",
      "text/plain": [
       "<Figure size 432x288 with 1 Axes>"
      ]
     },
     "metadata": {},
     "output_type": "display_data"
    }
   ],
   "source": [
    "labels = ['w1', 'w2']\n",
    "colors = ['yellow', 'blue']\n",
    "plt.pie([sum(Service_T_1),sum(Service_T_2)], labels = labels, colors = colors, autopct='%.2f%%')\n",
    "plt.title('differnce betwwen service time for two types of customers')\n",
    "plt.show()"
   ]
  },
  {
   "cell_type": "code",
   "execution_count": 86,
   "id": "41e6afdb",
   "metadata": {},
   "outputs": [
    {
     "data": {
      "image/png": "[encoded data removed]",
      "text/plain": [
       "<Figure size 432x288 with 1 Axes>"
      ]
     },
     "metadata": {
      "needs_background": "light"
     },
     "output_type": "display_data"
    },
    {
     "data": {
      "text/plain": [
       "<Figure size 432x288 with 0 Axes>"
      ]
     },
     "metadata": {},
     "output_type": "display_data"
    }
   ],
   "source": [
    "labels = [len(o_customer), len(d_customer)]\n",
    "values = [2,10]\n",
    "bars = plt.bar(labels,values)\n",
    "pattrens = ['/','o']\n",
    "for bar in bars:\n",
    "    bar.set_hatch(pattrens.pop(0))\n",
    "plt.figure(figsize = (6,4))\n",
    "plt.show()"
   ]
  }
 ],
 "metadata": {
  "kernelspec": {
   "display_name": "Python 3 (ipykernel)",
   "language": "python",
   "name": "python3"
  },
  "language_info": {
   "codemirror_mode": {
    "name": "ipython",
    "version": 3
   },
   "file_extension": ".py",
   "mimetype": "text/x-python",
   "name": "python",
   "nbconvert_exporter": "python",
   "pygments_lexer": "ipython3",
   "version": "3.9.12"
  }
 },
 "nbformat": 4,
 "nbformat_minor": 5
}
