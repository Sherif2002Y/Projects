{
 "cells": [
  {
   "cell_type": "code",
   "execution_count": 2,
   "id": "63e1d6a9",
   "metadata": {
    "ExecuteTime": {
     "end_time": "2023-12-08T21:27:44.530725Z",
     "start_time": "2023-12-08T21:27:44.525019Z"
    }
   },
   "outputs": [],
   "source": [
    "# Import necessary libraries\n",
    "from sklearn import datasets\n",
    "from sklearn.model_selection import train_test_split\n",
    "from sklearn.tree import DecisionTreeClassifier\n",
    "from sklearn import metrics\n",
    "from sklearn.tree import export_text"
   ]
  },
  {
   "cell_type": "code",
   "execution_count": 3,
   "id": "760c2039",
   "metadata": {
    "ExecuteTime": {
     "end_time": "2023-12-08T21:27:44.851705Z",
     "start_time": "2023-12-08T21:27:44.838438Z"
    }
   },
   "outputs": [],
   "source": [
    "# load the dataset and delecration\n",
    "iris = datasets.load_iris()\n",
    "x = iris.data  # Features\n",
    "y = iris.target  # Target variable"
   ]
  },
  {
   "cell_type": "code",
   "execution_count": 4,
   "id": "ae8f89ad",
   "metadata": {
    "ExecuteTime": {
     "end_time": "2023-12-08T21:27:45.065745Z",
     "start_time": "2023-12-08T21:27:45.055221Z"
    }
   },
   "outputs": [],
   "source": [
    "# Split the dataset into training and testing sets\n",
    "x_train, x_test, y_train, y_test = train_test_split(x, y, test_size=0.2, random_state=33)"
   ]
  },
  {
   "cell_type": "code",
   "execution_count": 5,
   "id": "250d35a2",
   "metadata": {
    "ExecuteTime": {
     "end_time": "2023-12-08T21:28:17.308305Z",
     "start_time": "2023-12-08T21:28:17.303552Z"
    }
   },
   "outputs": [],
   "source": [
    "##print(x,y)"
   ]
  },
  {
   "cell_type": "code",
   "execution_count": 6,
   "id": "27e13aab",
   "metadata": {
    "ExecuteTime": {
     "end_time": "2023-12-08T21:27:45.684696Z",
     "start_time": "2023-12-08T21:27:45.673167Z"
    }
   },
   "outputs": [],
   "source": [
    "# Create a decision tree classifier\n",
    "clf = DecisionTreeClassifier()"
   ]
  },
  {
   "cell_type": "code",
   "execution_count": 7,
   "id": "c7c110c6",
   "metadata": {
    "ExecuteTime": {
     "end_time": "2023-12-08T21:27:46.293509Z",
     "start_time": "2023-12-08T21:27:46.282809Z"
    }
   },
   "outputs": [
    {
     "data": {
      "text/plain": [
       "DecisionTreeClassifier()"
      ]
     },
     "execution_count": 7,
     "metadata": {},
     "output_type": "execute_result"
    }
   ],
   "source": [
    "# training the model\n",
    "clf.fit(x_train,y_train)"
   ]
  },
  {
   "cell_type": "code",
   "execution_count": 8,
   "id": "044f8422",
   "metadata": {
    "ExecuteTime": {
     "end_time": "2023-12-08T21:27:48.216997Z",
     "start_time": "2023-12-08T21:27:48.210762Z"
    }
   },
   "outputs": [],
   "source": [
    "# Make predictions on the testing data\n",
    "y_pred=clf.predict(x_test)"
   ]
  },
  {
   "cell_type": "code",
   "execution_count": 9,
   "id": "09279598",
   "metadata": {
    "ExecuteTime": {
     "end_time": "2023-12-08T21:27:48.569253Z",
     "start_time": "2023-12-08T21:27:48.557494Z"
    }
   },
   "outputs": [
    {
     "name": "stdout",
     "output_type": "stream",
     "text": [
      "Accuracy: 0.8666666666666667\n"
     ]
    }
   ],
   "source": [
    " # Evaluate the performance of the model\n",
    "accuracy = metrics.accuracy_score(y_test, y_pred)\n",
    "print(f\"Accuracy: {accuracy}\")"
   ]
  },
  {
   "cell_type": "code",
   "execution_count": 10,
   "id": "2bb5d52d",
   "metadata": {
    "ExecuteTime": {
     "end_time": "2023-12-08T21:27:50.714677Z",
     "start_time": "2023-12-08T21:27:50.706367Z"
    }
   },
   "outputs": [
    {
     "name": "stdout",
     "output_type": "stream",
     "text": [
      "|--- petal width (cm) <= 0.80\n",
      "|   |--- class: 0\n",
      "|--- petal width (cm) >  0.80\n",
      "|   |--- petal width (cm) <= 1.75\n",
      "|   |   |--- petal length (cm) <= 5.05\n",
      "|   |   |   |--- sepal length (cm) <= 4.95\n",
      "|   |   |   |   |--- petal width (cm) <= 1.35\n",
      "|   |   |   |   |   |--- class: 1\n",
      "|   |   |   |   |--- petal width (cm) >  1.35\n",
      "|   |   |   |   |   |--- class: 2\n",
      "|   |   |   |--- sepal length (cm) >  4.95\n",
      "|   |   |   |   |--- class: 1\n",
      "|   |   |--- petal length (cm) >  5.05\n",
      "|   |   |   |--- sepal width (cm) <= 2.75\n",
      "|   |   |   |   |--- class: 1\n",
      "|   |   |   |--- sepal width (cm) >  2.75\n",
      "|   |   |   |   |--- class: 2\n",
      "|   |--- petal width (cm) >  1.75\n",
      "|   |   |--- petal length (cm) <= 4.85\n",
      "|   |   |   |--- class: 1\n",
      "|   |   |--- petal length (cm) >  4.85\n",
      "|   |   |   |--- class: 2\n",
      "\n"
     ]
    }
   ],
   "source": [
    "# Extract textual representation of the tree\n",
    "tree_rules = export_text(clf, feature_names=iris.feature_names)\n",
    "print(tree_rules)"
   ]
  }
 ],
 "metadata": {
  "kernelspec": {
   "display_name": "Python 3 (ipykernel)",
   "language": "python",
   "name": "python3"
  },
  "language_info": {
   "codemirror_mode": {
    "name": "ipython",
    "version": 3
   },
   "file_extension": ".py",
   "mimetype": "text/x-python",
   "name": "python",
   "nbconvert_exporter": "python",
   "pygments_lexer": "ipython3",
   "version": "3.11.5"
  },
  "toc": {
   "base_numbering": 1,
   "nav_menu": {},
   "number_sections": true,
   "sideBar": true,
   "skip_h1_title": false,
   "title_cell": "Table of Contents",
   "title_sidebar": "Contents",
   "toc_cell": false,
   "toc_position": {},
   "toc_section_display": true,
   "toc_window_display": false
  }
 },
 "nbformat": 4,
 "nbformat_minor": 5
}
