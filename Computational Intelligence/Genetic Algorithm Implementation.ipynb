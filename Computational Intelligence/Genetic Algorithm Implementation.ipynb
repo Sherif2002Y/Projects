{
 "cells": [
  {
   "cell_type": "code",
   "execution_count": 35,
   "id": "e3cb54a2",
   "metadata": {},
   "outputs": [],
   "source": [
    "import numpy as np"
   ]
  },
  {
   "cell_type": "code",
   "execution_count": 141,
   "id": "12d57cc8",
   "metadata": {},
   "outputs": [],
   "source": [
    "def initPopBinary(npop,clen):\n",
    "    pop = np.random.randint(0,2,(npop, clen))\n",
    "    \n",
    "    return pop"
   ]
  },
  {
   "cell_type": "code",
   "execution_count": 207,
   "id": "7b60b752",
   "metadata": {},
   "outputs": [
    {
     "data": {
      "text/plain": [
       "array([[0, 0, 1, 1, 0],\n",
       "       [0, 1, 0, 0, 0],\n",
       "       [1, 1, 1, 0, 1],\n",
       "       [1, 0, 1, 0, 1],\n",
       "       [1, 1, 1, 0, 1],\n",
       "       [1, 1, 1, 1, 1],\n",
       "       [0, 0, 0, 0, 0],\n",
       "       [1, 1, 0, 0, 0],\n",
       "       [1, 0, 1, 0, 0],\n",
       "       [1, 0, 0, 1, 0],\n",
       "       [0, 1, 0, 0, 1],\n",
       "       [1, 0, 1, 1, 0],\n",
       "       [0, 0, 0, 1, 1],\n",
       "       [0, 1, 0, 0, 0],\n",
       "       [1, 1, 1, 1, 0],\n",
       "       [1, 1, 0, 1, 1],\n",
       "       [0, 1, 1, 1, 0],\n",
       "       [0, 0, 1, 1, 0],\n",
       "       [0, 0, 1, 0, 1],\n",
       "       [1, 1, 0, 1, 1]])"
      ]
     },
     "execution_count": 207,
     "metadata": {},
     "output_type": "execute_result"
    }
   ],
   "source": [
    "pop = initPopBinary(20,5)\n",
    "pop"
   ]
  },
  {
   "cell_type": "code",
   "execution_count": 214,
   "id": "ce6d90b9",
   "metadata": {},
   "outputs": [],
   "source": [
    "def oneMaxI(chromosome): \n",
    "    chromoseomFitness = np.sum(chromosome,axis=0)\n",
    "    return chromoseomFitness"
   ]
  },
  {
   "cell_type": "code",
   "execution_count": 215,
   "id": "f2639d1b",
   "metadata": {},
   "outputs": [
    {
     "data": {
      "text/plain": [
       "array([10, 10, 11,  9, 14])"
      ]
     },
     "execution_count": 215,
     "metadata": {},
     "output_type": "execute_result"
    }
   ],
   "source": [
    "fitness=oneMaxI(pop)\n",
    "fitness"
   ]
  },
  {
   "cell_type": "code",
   "execution_count": 216,
   "id": "c733421c",
   "metadata": {},
   "outputs": [],
   "source": [
    "def oneMaxP(pop, npop):\n",
    "    popFit = np.zeros(npop)\n",
    "    for i in range(npop):\n",
    "        popFit[i] = oneMaxI(pop[i])\n",
    "    return popFit"
   ]
  },
  {
   "cell_type": "code",
   "execution_count": 217,
   "id": "18950a99",
   "metadata": {
    "scrolled": false
   },
   "outputs": [
    {
     "data": {
      "text/plain": [
       "array([1., 2., 3., 2., 3., 3., 2., 2., 2., 5., 2., 3., 3., 3., 3., 1., 4.,\n",
       "       4., 3., 3.])"
      ]
     },
     "execution_count": 217,
     "metadata": {},
     "output_type": "execute_result"
    }
   ],
   "source": [
    "pop = np.array([\n",
    "       [0, 0, 0, 0, 1],\n",
    "       [0, 0, 1, 0, 1],\n",
    "       [1, 1, 1, 0, 0],\n",
    "       [0, 0, 0, 1, 1],\n",
    "       [0, 1, 1, 0, 1],\n",
    "       [0, 1, 1, 0, 1],\n",
    "       [1, 1, 0, 0, 0],\n",
    "       [0, 1, 0, 1, 0],\n",
    "       [0, 0, 1, 0, 1],\n",
    "       [1, 1, 1, 1, 1],\n",
    "       [0, 0, 0, 1, 1],\n",
    "       [1, 0, 0, 1, 1],\n",
    "       [1, 0, 1, 1, 0],\n",
    "       [1, 0, 1, 1, 0],\n",
    "       [0, 1, 1, 0, 1],\n",
    "       [0, 0, 0, 0, 1],\n",
    "       [1, 1, 1, 0, 1],\n",
    "       [1, 1, 1, 1, 0],\n",
    "       [1, 1, 0, 0, 1],\n",
    "       [1, 0, 0, 1, 1]])\n",
    "popFit = oneMaxP(pop,20) \n",
    "popFit"
   ]
  },
  {
   "cell_type": "code",
   "execution_count": 218,
   "id": "92e2fd1a",
   "metadata": {},
   "outputs": [],
   "source": [
    "def selectionProb(popFit): \n",
    "# Use this function to calculate the selection probability for each individual in the population\n",
    "    # popFit: a one dimension array of the population size (npop) including the fitness value \n",
    "    # for all the individuals in the population\n",
    "    #probs =  np.array(popFit, dtype='f')/sum(popFit)\n",
    "    totalFitness = sum(popFit)\n",
    "    probs = [i/totalFitness for i in popFit]\n",
    "    return probs # probs: a one dimension array representing the selection probabilities for every individual in the population"
   ]
  },
  {
   "cell_type": "code",
   "execution_count": 190,
   "id": "3c695163",
   "metadata": {
    "scrolled": true
   },
   "outputs": [
    {
     "data": {
      "text/plain": [
       "[0.018518518518518517,\n",
       " 0.037037037037037035,\n",
       " 0.05555555555555555,\n",
       " 0.037037037037037035,\n",
       " 0.05555555555555555,\n",
       " 0.05555555555555555,\n",
       " 0.037037037037037035,\n",
       " 0.037037037037037035,\n",
       " 0.037037037037037035,\n",
       " 0.09259259259259259,\n",
       " 0.037037037037037035,\n",
       " 0.05555555555555555,\n",
       " 0.05555555555555555,\n",
       " 0.05555555555555555,\n",
       " 0.05555555555555555,\n",
       " 0.018518518518518517,\n",
       " 0.07407407407407407,\n",
       " 0.07407407407407407,\n",
       " 0.05555555555555555,\n",
       " 0.05555555555555555]"
      ]
     },
     "execution_count": 190,
     "metadata": {},
     "output_type": "execute_result"
    }
   ],
   "source": [
    "prob = selectionProb(popFit)\n",
    "prob"
   ]
  },
  {
   "cell_type": "code",
   "execution_count": 191,
   "id": "7b9eaadf",
   "metadata": {},
   "outputs": [],
   "source": [
    "def cumProb(prob): \n",
    "    # Use this function to calculate the cummulative probabilities for each individual in the population, \n",
    "        # ex: probs= [0.1667, 0.5, 0.0833, 0.25],\n",
    "        # cprob =[0.1667, 0.6667, 0.75, 1].\n",
    "        # probs: a one dimension array representing the selection probabilities for every individual in the population\n",
    "    cprob = np.zeros_like(prob)\n",
    "    cprob[0] = prob[0]\n",
    "    for i in range(1,len(prob)):\n",
    "        cprob[i] = cprob[i-1] + prob[i]\n",
    "        \n",
    "    return cprob #cprob a vector representing cummlative probability for each individual in the population"
   ]
  },
  {
   "cell_type": "code",
   "execution_count": 192,
   "id": "9386a501",
   "metadata": {},
   "outputs": [
    {
     "data": {
      "text/plain": [
       "array([0.01851852, 0.05555556, 0.11111111, 0.14814815, 0.2037037 ,\n",
       "       0.25925926, 0.2962963 , 0.33333333, 0.37037037, 0.46296296,\n",
       "       0.5       , 0.55555556, 0.61111111, 0.66666667, 0.72222222,\n",
       "       0.74074074, 0.81481481, 0.88888889, 0.94444444, 1.        ])"
      ]
     },
     "execution_count": 192,
     "metadata": {},
     "output_type": "execute_result"
    }
   ],
   "source": [
    "cprobb = cumProb(prob)\n",
    "cprobb"
   ]
  },
  {
   "cell_type": "code",
   "execution_count": 219,
   "id": "c6937280",
   "metadata": {},
   "outputs": [],
   "source": [
    "def rouletteWheel(cprob): \n",
    "# Use this function to implement the roulette wheel selection, to select a single parent index\n",
    "    #cprob: cummlative probability for each individual in the population\n",
    "    r = np.random.random()\n",
    "    for i in range(len(cprob)):\n",
    "        if r <= cprob[i]:\n",
    "            indx = i\n",
    "            return indx\n",
    "        \n",
    "    # indx: a value represents the index of the selected parent"
   ]
  },
  {
   "cell_type": "code",
   "execution_count": 220,
   "id": "48c677c2",
   "metadata": {},
   "outputs": [
    {
     "data": {
      "text/plain": [
       "11"
      ]
     },
     "execution_count": 220,
     "metadata": {},
     "output_type": "execute_result"
    }
   ],
   "source": [
    "indx = rouletteWheel(cprob)\n",
    "indx\n",
    " "
   ]
  },
  {
   "cell_type": "code",
   "execution_count": 223,
   "id": "ff96efe7",
   "metadata": {},
   "outputs": [],
   "source": [
    "def rouletteSelect(cprob,pop): \n",
    "# Use this function to return 2 selected parents, \n",
    "    #hint: you will use the roulette_wheel function here\n",
    "    #cprob: a vector representing cummlative probability for each individual in the population\n",
    "    #pop: chromosomes population (2D array (npop X clen)\n",
    "    twoParents = np.zeros((2,np.size(pop,1)))\n",
    "    for i in range(2):\n",
    "        indx = rouletteWheel(cprob)\n",
    "        twoParents[i,:] = pop[indx,:] \n",
    "    return twoParents \n",
    "    #twoParents: a (2 X clen) matrix"
   ]
  },
  {
   "cell_type": "code",
   "execution_count": 224,
   "id": "3cc2fc2a",
   "metadata": {},
   "outputs": [
    {
     "data": {
      "text/plain": [
       "array([[1., 0., 0., 1., 1.],\n",
       "       [0., 1., 1., 0., 1.],\n",
       "       [1., 0., 1., 1., 0.],\n",
       "       [1., 0., 0., 1., 1.],\n",
       "       [1., 1., 1., 1., 1.],\n",
       "       [1., 1., 1., 1., 1.],\n",
       "       [1., 1., 1., 1., 1.],\n",
       "       [1., 1., 0., 0., 1.],\n",
       "       [1., 1., 1., 1., 1.],\n",
       "       [0., 1., 1., 0., 1.],\n",
       "       [1., 0., 1., 1., 0.],\n",
       "       [0., 0., 0., 1., 1.],\n",
       "       [1., 1., 1., 1., 1.],\n",
       "       [1., 0., 1., 1., 0.],\n",
       "       [0., 1., 1., 0., 1.],\n",
       "       [1., 1., 1., 0., 1.],\n",
       "       [0., 1., 1., 0., 1.],\n",
       "       [1., 1., 1., 0., 0.],\n",
       "       [0., 1., 1., 0., 1.],\n",
       "       [1., 1., 1., 0., 1.]])"
      ]
     },
     "execution_count": 224,
     "metadata": {},
     "output_type": "execute_result"
    }
   ],
   "source": [
    "twoParents = rouletteSelect(cprob,pop)\n",
    "twoParents"
   ]
  },
  {
   "cell_type": "code",
   "execution_count": 226,
   "id": "5daf33b7",
   "metadata": {},
   "outputs": [],
   "source": [
    "import random\n",
    "\n",
    "def rouletteWheelSelection(pop, popFit, npop):\n",
    "    \"\"\"\n",
    "    Selects the best-fitted individuals for the next population using Roulette Wheel selection.\n",
    "    Takes the fitness of each individual and generates the probabilities of it.\n",
    "    The probability of being selected is proportional to the relative fitness of the individual.\n",
    "    Returns a new population of npop chromosomes selected using Roulette Wheel selection.\n",
    "    \"\"\"\n",
    "    # Compute the cumulative fitness of the population\n",
    "    cum_fitness = [sum(popFit[:i+1]) for i in range(len(popFit))]\n",
    "    \n",
    "    # Compute the total fitness of the population\n",
    "    total_fitness = cum_fitness[-1]\n",
    "    \n",
    "    # Compute the probability of selecting each individual based on its fitness\n",
    "    probabilities = [f / total_fitness for f in cum_fitness]\n",
    "    \n",
    "    # Select npop individuals using Roulette Wheel selection\n",
    "    new_pop = []\n",
    "    for i in range(npop):\n",
    "        r = random.random()\n",
    "        for j in range(len(probabilities)):\n",
    "            if r < probabilities[j]:\n",
    "                new_pop.append(pop[j])\n",
    "                break\n",
    "    \n",
    "    return new_pop"
   ]
  },
  {
   "cell_type": "code",
   "execution_count": 229,
   "id": "7c6cd07b",
   "metadata": {},
   "outputs": [
    {
     "data": {
      "text/plain": [
       "[array([0, 1, 1, 0, 1]),\n",
       " array([1, 0, 1, 1, 0]),\n",
       " array([1, 0, 1, 1, 0]),\n",
       " array([1, 1, 0, 0, 1]),\n",
       " array([0, 1, 1, 0, 1]),\n",
       " array([1, 1, 1, 1, 0]),\n",
       " array([0, 1, 1, 0, 1]),\n",
       " array([0, 0, 0, 1, 1]),\n",
       " array([0, 1, 1, 0, 1]),\n",
       " array([1, 0, 0, 1, 1]),\n",
       " array([1, 0, 1, 1, 0]),\n",
       " array([1, 1, 1, 1, 1]),\n",
       " array([1, 0, 0, 1, 1]),\n",
       " array([1, 1, 1, 0, 1]),\n",
       " array([1, 1, 1, 1, 0]),\n",
       " array([1, 0, 0, 1, 1]),\n",
       " array([0, 1, 1, 0, 1]),\n",
       " array([0, 0, 0, 1, 1]),\n",
       " array([0, 1, 1, 0, 1]),\n",
       " array([1, 0, 0, 1, 1])]"
      ]
     },
     "execution_count": 229,
     "metadata": {},
     "output_type": "execute_result"
    }
   ],
   "source": [
    "# Use Roulette Wheel selection to select the best-fitted individuals for the next population\n",
    "new_pop = rouletteWheelSelection(pop, popFit, 20)\n",
    "new_pop"
   ]
  },
  {
   "cell_type": "code",
   "execution_count": 256,
   "id": "aa754352",
   "metadata": {},
   "outputs": [],
   "source": [
    "import numpy as np\n",
    "\n",
    "def findBestIndividuals(pop, popFit):\n",
    "    \"\"\"\n",
    "    Finds the two best individuals by fitness in a population represented as a list of individuals and their corresponding fitness values.\n",
    "    Returns a tuple containing the two best individuals found.\n",
    "    \"\"\"\n",
    "    \n",
    "    # Find the indices of the two best fitness values in the list\n",
    "    best_indices = np.argsort(popFit)[-2:]\n",
    "    \n",
    "    # Set the first best individual to the one with the best fitness value\n",
    "    bestIndividual1 = pop[best_indices[-1]]\n",
    "    \n",
    "    # Set the second best individual to the one with the second best fitness value\n",
    "    bestIndividual2 = pop[best_indices[-2]]\n",
    "    \n",
    "    return (bestIndividual1, bestIndividual2)"
   ]
  },
  {
   "cell_type": "code",
   "execution_count": 258,
   "id": "c2e34771",
   "metadata": {},
   "outputs": [
    {
     "data": {
      "text/plain": [
       "(array([1, 1, 1, 1, 1]), array([1, 1, 1, 1, 0]))"
      ]
     },
     "execution_count": 258,
     "metadata": {},
     "output_type": "execute_result"
    }
   ],
   "source": [
    "\n",
    "# Find the two best individuals by fitness in the population\n",
    "bestIndividuals = findBestIndividuals(pop, popFit)\n",
    "\n",
    "# Print the two best individuals\n",
    "bestIndividuals"
   ]
  },
  {
   "cell_type": "code",
   "execution_count": 259,
   "id": "87441fcf",
   "metadata": {},
   "outputs": [],
   "source": [
    "def binCross(twoParents, pcross, clen):\n",
    "    \"\"\"\n",
    "    Performs binary crossover on two parent chromosomes represented as strings of binary digits.\n",
    "    The crossover point is randomly selected with a probability of pcross.\n",
    "    The crossover point is chosen such that at least one bit from each parent is included in the offspring.\n",
    "    The length of the chromosomes is specified by clen.\n",
    "    Returns a string representing the offspring chromosome.\n",
    "    \"\"\"\n",
    "    parent1, parent2 = twoParents\n",
    "    \n",
    "    # Check if crossover should be performed\n",
    "    if random.random() > pcross:\n",
    "        return parent1\n",
    "    \n",
    "    # Select a crossover point\n",
    "    crossoverPoint = random.randint(1, clen-1)\n",
    "    \n",
    "    # Create the offspring chromosome\n",
    "    offspring = parent1[:crossoverPoint] + parent2[crossoverPoint:]\n",
    "    \n",
    "    return offspring"
   ]
  },
  {
   "cell_type": "code",
   "execution_count": 267,
   "id": "ee1fa64f",
   "metadata": {
    "scrolled": true
   },
   "outputs": [
    {
     "name": "stdout",
     "output_type": "stream",
     "text": [
      "1,1, 1, 1, 1\n"
     ]
    }
   ],
   "source": [
    "# Example parent chromosomes represented as strings of binary digits\n",
    "parent1 = '1,1, 1, 1, 1'\n",
    "parent2 = '1, 1, 1, 1, 0'\n",
    "\n",
    "# Perform binary crossover on the parents\n",
    "offspring = binCross((parent1, parent2), 0.6, len(parent1))\n",
    "\n",
    "# Print the offspring chromosome\n",
    "print(offspring)"
   ]
  },
  {
   "cell_type": "code",
   "execution_count": 268,
   "id": "2047dc82",
   "metadata": {},
   "outputs": [],
   "source": [
    "def bitFlipMutation(individual, pMut=0.05):\n",
    "    \"\"\"\n",
    "    Performs bit-flip mutation on an individual chromosome represented as a list or string.\n",
    "    The mutation probability is pMut (default 0.05).\n",
    "    Returns a mutated version of the individual.\n",
    "    \"\"\"\n",
    "    # Convert the individual to a list if it is a string\n",
    "    if isinstance(individual, str):\n",
    "        individual = list(individual)\n",
    "    \n",
    "    # Perform bit-flip mutation\n",
    "    for i in range(len(individual)):\n",
    "        if random.random() < pMut:\n",
    "            individual[i] = '0' if individual[i] == '1' else '1'\n",
    "    \n",
    "    # Convert the individual back to a string if it was originally a string\n",
    "    if isinstance(individual, str):\n",
    "        individual = ''.join(individual)\n",
    "    \n",
    "    return individual"
   ]
  },
  {
   "cell_type": "code",
   "execution_count": 269,
   "id": "515916e3",
   "metadata": {},
   "outputs": [
    {
     "name": "stdout",
     "output_type": "stream",
     "text": [
      "(1, 1, 1, 1, 0)\n"
     ]
    }
   ],
   "source": [
    "# Example individual chromosome represented as a string of binary digits\n",
    "individual = 1, 1, 1, 1, 0\n",
    "\n",
    "# Perform bit-flip mutation on the individual\n",
    "mutatedIndividual = bitFlipMutation(individual, 0.05)\n",
    "\n",
    "# Print the mutated individual chromosome\n",
    "print(mutatedIndividual)"
   ]
  },
  {
   "cell_type": "code",
   "execution_count": 278,
   "id": "8e8175b9",
   "metadata": {},
   "outputs": [],
   "source": [
    "import random\n",
    "import numpy as np\n",
    "\n",
    "def genetic_algorithm(pop_size, num_generations, chrom_length, p_cross, p_mut, random_seed=None):\n",
    "    \"\"\"\n",
    "    Performs a genetic algorithm on a population of individuals.\n",
    "    Returns the final population, a vector containing the history of the highest fitness in the population at each generation, and the average fitness value.\n",
    "    \"\"\"\n",
    "    if random_seed is not None:\n",
    "        np.random.seed(random_seed)\n",
    "        random.seed(random_seed)\n",
    "    \n",
    "    # Initialize the population with random binary strings\n",
    "    population = [list(np.random.randint(2, size=chrom_length)) for i in range(pop_size)]\n",
    "    \n",
    "    # Initialize the history of the best and average fitness values\n",
    "    best_hist = []\n",
    "    avg_hist = []\n",
    "    \n",
    "    # Evaluate the initial population\n",
    "    fitness_values = [fitness(individual) for individual in population]\n",
    "    best_fitness = max(fitness_values)\n",
    "    best_hist.append(best_fitness)\n",
    "    avg_hist.append(np.mean(fitness_values))\n",
    "    \n",
    "    # Perform the specified number of generations\n",
    "    for generation in range(num_generations):\n",
    "        # Select parents for crossover using tournament selection\n",
    "        parents = []\n",
    "        for i in range(pop_size):\n",
    "            # Select two individuals at random for the tournament\n",
    "            tournament = random.sample(range(pop_size), 2)\n",
    "            \n",
    "            # Select the fitter individual as the parent\n",
    "            if fitness_values[tournament[0]] > fitness_values[tournament[1]]:\n",
    "                parents.append(population[tournament[0]])\n",
    "            else:\n",
    "                parents.append(population[tournament[1]])\n",
    "        \n",
    "        # Perform one-point crossover on the parents to create offspring\n",
    "        offspring = []\n",
    "        for i in range(pop_size):\n",
    "            # Select two parents at random for crossover\n",
    "            crossover_parents = random.sample(range(pop_size), 2)\n",
    "            \n",
    "            # Perform crossover with probability p_cross\n",
    "            if random.random() < p_cross:\n",
    "                crossover_point = random.randint(1, chrom_length-1)\n",
    "                offspring1 = parents[crossover_parents[0]][:crossover_point] + parents[crossover_parents[1]][crossover_point:]\n",
    "                offspring2 = parents[crossover_parents[1]][:crossover_point] + parents[crossover_parents[0]][crossover_point:]\n",
    "            else:\n",
    "                offspring1 = parents[crossover_parents[0]]\n",
    "                offspring2 = parents[crossover_parents[1]]\n",
    "            \n",
    "            # Add the offspring to the list\n",
    "            offspring.append(offspring1)\n",
    "            offspring.append(offspring2)\n",
    "        \n",
    "        # Perform bit-flip mutation on the offspring with probability p_mut\n",
    "        for i in range(len(offspring)):\n",
    "            for j in range(chrom_length):\n",
    "                if random.random() < p_mut:\n",
    "                    offspring[i][j] = 1 - offspring[i][j]\n",
    "        \n",
    "        # Combine the old population and the offspring\n",
    "        combined_population = population + offspring\n",
    "        \n",
    "        # Evaluate the combined population\n",
    "        combined_fitness_values = [fitness(individual) for individual in combined_population]\n",
    "        \n",
    "        # Sort the combined population by fitness\n",
    "        sorted_population = [x for _, x in sorted(zip(combined_fitness_values, combined_population), reverse=True)]\n",
    "        \n",
    "        # Keep the best two individuals from the sorted population as elites\n",
    "        elites = sorted_population[:2]\n",
    "        \n",
    "        # Replace the worst two individuals in the sorted population with the elites\n",
    "        sorted_population[-2:] = elites\n",
    "        \n",
    "        # Replace the old population with the sorted population\n",
    "        population = sorted_population\n",
    "        \n",
    "        # Evaluate the new population\n",
    "        fitness_values = [fitness(individual) for individual in population]\n",
    "        best_fitness = max(fitness_values)\n",
    "        best_hist.append(best_fitness)\n",
    "        avg_hist.append(np.mean(fitness_values))\n",
    "    \n",
    "    return population, best_hist, avg_hist"
   ]
  },
  {
   "cell_type": "code",
   "execution_count": 279,
   "id": "d05de42d",
   "metadata": {},
   "outputs": [
    {
     "ename": "TypeError",
     "evalue": "genetic_algorithm() got an unexpected keyword argument 'random_seed'",
     "output_type": "error",
     "traceback": [
      "\u001b[1;31m---------------------------------------------------------------------------\u001b[0m",
      "\u001b[1;31mTypeError\u001b[0m                                 Traceback (most recent call last)",
      "\u001b[1;32m~\\AppData\\Local\\Temp\\ipykernel_4188\\1605288313.py\u001b[0m in \u001b[0;36m<module>\u001b[1;34m\u001b[0m\n\u001b[0;32m      4\u001b[0m \u001b[1;33m\u001b[0m\u001b[0m\n\u001b[0;32m      5\u001b[0m     \u001b[1;31m# Run the genetic algorithm with the specified parameters and random seed\u001b[0m\u001b[1;33m\u001b[0m\u001b[1;33m\u001b[0m\u001b[0m\n\u001b[1;32m----> 6\u001b[1;33m     \u001b[0mpopulation\u001b[0m\u001b[1;33m,\u001b[0m \u001b[0mbest_hist\u001b[0m\u001b[1;33m,\u001b[0m \u001b[0mavg_hist\u001b[0m \u001b[1;33m=\u001b[0m \u001b[0mgenetic_algorithm\u001b[0m\u001b[1;33m(\u001b[0m\u001b[0mpop_size\u001b[0m\u001b[1;33m=\u001b[0m\u001b[1;36m100\u001b[0m\u001b[1;33m,\u001b[0m \u001b[0mnum_generations\u001b[0m\u001b[1;33m=\u001b[0m\u001b[1;36m50\u001b[0m\u001b[1;33m,\u001b[0m \u001b[0mchrom_length\u001b[0m\u001b[1;33m=\u001b[0m\u001b[1;36m10\u001b[0m\u001b[1;33m,\u001b[0m \u001b[0mp_cross\u001b[0m\u001b[1;33m=\u001b[0m\u001b[1;36m0.8\u001b[0m\u001b[1;33m,\u001b[0m \u001b[0mp_mut\u001b[0m\u001b[1;33m=\u001b[0m\u001b[1;36m0.1\u001b[0m\u001b[1;33m,\u001b[0m \u001b[0mrandom_seed\u001b[0m\u001b[1;33m=\u001b[0m\u001b[0mrandom_seed\u001b[0m\u001b[1;33m)\u001b[0m\u001b[1;33m\u001b[0m\u001b[1;33m\u001b[0m\u001b[0m\n\u001b[0m\u001b[0;32m      7\u001b[0m \u001b[1;33m\u001b[0m\u001b[0m\n\u001b[0;32m      8\u001b[0m     \u001b[1;31m# Print the best fitness value and the final population for this run\u001b[0m\u001b[1;33m\u001b[0m\u001b[1;33m\u001b[0m\u001b[0m\n",
      "\u001b[1;31mTypeError\u001b[0m: genetic_algorithm() got an unexpected keyword argument 'random_seed'"
     ]
    }
   ],
   "source": [
    "for i in range(10):\n",
    "    # Set a different random seed for each run\n",
    "    random_seed = i\n",
    "    \n",
    "    # Run the genetic algorithm with the specified parameters and random seed\n",
    "    population, best_hist, avg_hist = genetic_algorithm(pop_size=100, num_generations=50, chrom_length=10, p_cross=0.8, p_mut=0.1, random_seed=random_seed)\n",
    "    \n",
    "    # Print the best fitness value and the final population for this run\n",
    "    print(\"Run {}: Best fitness = {}\".format(i+1, max(best_hist)))\n",
    "    print(\"Final population:\")\n",
    "    for individual in population:\n",
    "        individual"
   ]
  },
  {
   "cell_type": "code",
   "execution_count": null,
   "id": "1828caff",
   "metadata": {},
   "outputs": [],
   "source": []
  },
  {
   "cell_type": "code",
   "execution_count": null,
   "id": "78e00243",
   "metadata": {},
   "outputs": [],
   "source": []
  }
 ],
 "metadata": {
  "kernelspec": {
   "display_name": "Python 3 (ipykernel)",
   "language": "python",
   "name": "python3"
  },
  "language_info": {
   "codemirror_mode": {
    "name": "ipython",
    "version": 3
   },
   "file_extension": ".py",
   "mimetype": "text/x-python",
   "name": "python",
   "nbconvert_exporter": "python",
   "pygments_lexer": "ipython3",
   "version": "3.9.13"
  }
 },
 "nbformat": 4,
 "nbformat_minor": 5
}
